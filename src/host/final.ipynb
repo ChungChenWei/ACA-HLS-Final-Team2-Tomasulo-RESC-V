{
 "cells": [
  {
   "cell_type": "markdown",
   "metadata": {},
   "source": [
    "# ACA HLS Team2 Final Project\n",
    "## RISC-V Tomasulo CPU"
   ]
  },
  {
   "cell_type": "code",
   "execution_count": 36,
   "metadata": {},
   "outputs": [],
   "source": [
    "# coding: utf-8\n",
    "from __future__ import print_function\n",
    "\n",
    "import sys\n",
    "import numpy as np\n",
    "import timeit\n",
    "from time import time\n",
    "\n",
    "from pynq import Overlay\n",
    "from pynq import allocate\n",
    "\n",
    "from inst_creator import instr_gen"
   ]
  },
  {
   "cell_type": "markdown",
   "metadata": {},
   "source": [
    "```\n",
    "// ==============================================================\n",
    "// Vitis HLS - High-Level Synthesis from C, C++ and OpenCL v2020.2 (64-bit)\n",
    "// Copyright 1986-2020 Xilinx, Inc. All Rights Reserved.\n",
    "// ==============================================================\n",
    "// control\n",
    "// 0x00 : Control signals\n",
    "//        bit 0  - ap_start (Read/Write/COH)\n",
    "//        bit 1  - ap_done (Read/COR)\n",
    "//        bit 2  - ap_idle (Read)\n",
    "//        bit 3  - ap_ready (Read)\n",
    "//        bit 7  - auto_restart (Read/Write)\n",
    "//        others - reserved\n",
    "// 0x04 : Global Interrupt Enable Register\n",
    "//        bit 0  - Global Interrupt Enable (Read/Write)\n",
    "//        others - reserved\n",
    "// 0x08 : IP Interrupt Enable Register (Read/Write)\n",
    "//        bit 0  - enable ap_done interrupt (Read/Write)\n",
    "//        bit 1  - enable ap_ready interrupt (Read/Write)\n",
    "//        others - reserved\n",
    "// 0x0c : IP Interrupt Status Register (Read/TOW)\n",
    "//        bit 0  - ap_done (COR/TOW)\n",
    "//        bit 1  - ap_ready (COR/TOW)\n",
    "//        others - reserved\n",
    "// 0x40 ~\n",
    "// 0x7f : Memory 'instruction_memory_i' (16 * 32b)\n",
    "//        Word n : bit [31:0] - instruction_memory_i[n]\n",
    "// 0x80 ~\n",
    "// 0xff : Memory 'final_register_file_o' (32 * 32b)\n",
    "//        Word n : bit [31:0] - final_register_file_o[n]\n",
    "// (SC = Self Clear, COR = Clear on Read, TOW = Toggle on Write, COH = Clear on Handshake)\n",
    "```"
   ]
  },
  {
   "cell_type": "code",
   "execution_count": 101,
   "metadata": {},
   "outputs": [],
   "source": [
    "# path\n",
    "ROOT_OPT1_PATH = '/home/xilinx/final/opt1_bitstream'\n",
    "ROOT_OPT2_PATH = '/home/xilinx/final/opt2_bitstream'\n",
    "\n",
    "BIT_OPT1_PATH = ROOT_OPT1_PATH + '/cpu.bit'\n",
    "BIT_OPT2_PATH = ROOT_OPT2_PATH + '/cpu.bit'\n",
    "\n",
    "# const\n",
    "INSTR_MAX = 16 # 16 * 32b\n",
    "REG_MAX = 32   # 32 * 32b\n",
    "# mem\n",
    "AP_CONTR = 0x00\n",
    "AP_START = 0x1\n",
    "AP_DONE  = 0x2\n",
    "AP_IDLE  = 0x4\n",
    "AP_READY = 0x8\n",
    "\n",
    "INSTR_I  = 0x40 # 0x40 ~ 0x7f (16 * 32b)\n",
    "REG_O    = 0x80 # 0x80 ~ 0xff (32 * 32b)"
   ]
  },
  {
   "cell_type": "code",
   "execution_count": 130,
   "metadata": {},
   "outputs": [],
   "source": [
    "ol_opt1 = Overlay(BIT_OPT1_PATH)\n",
    "cpuIP_opt1 = ol_opt1.cpu_0\n",
    "ol_opt2 = Overlay(BIT_OPT2_PATH)\n",
    "cpuIP_opt2 = ol_opt2.cpu_0"
   ]
  },
  {
   "cell_type": "code",
   "execution_count": 141,
   "metadata": {},
   "outputs": [],
   "source": [
    "inst = \"\"\"\n",
    "ADDI x0, x0, 0\n",
    "ADDI x1, x1, 10\n",
    "ADDI x2, x2, 20\n",
    "MUL x1, x1, x2\n",
    "MUL x2, x2, x2\n",
    "ADDI x3, x2, 10\n",
    "MUL x4, x3, x1\n",
    "ADD x5, x4, x4\n",
    "ADDI x6, x6, 5\n",
    "ADDI x7, x7, 6\n",
    "MUL x10, x7, x6\n",
    "ADDI x0, x0, 5\n",
    "\"\"\"\n",
    "instr_list = np.asarray(instr_gen(inst), dtype=np.int32)\n",
    "\n",
    "if (len(instr_list) > INSTR_MAX) :\n",
    "    raise IndexError(\"too many instructions\")\n",
    "\n",
    "instrBuffer = np.zeros(shape=(INSTR_MAX,), dtype=np.int32)\n",
    "regBuffer = np.zeros(shape=(REG_MAX,), dtype=np.int32)\n",
    "\n",
    "# Setup Instr\n",
    "for i in range(len(instr_list)) :\n",
    "    instrBuffer[i] = int(instr_list[i])"
   ]
  },
  {
   "cell_type": "code",
   "execution_count": 138,
   "metadata": {},
   "outputs": [],
   "source": [
    "def main(cpu): \n",
    "    # timeKernelStart = time()\n",
    "    \n",
    "    # write instruction\n",
    "    for i in range(len(instrBuffer)) :\n",
    "        cpu.write(INSTR_I + i * 4, int(instrBuffer[i]))\n",
    "\n",
    "    # start signal\n",
    "    cpu.write(AP_CONTR, AP_START)\n",
    "    # until idle\n",
    "    while (cpu.read(AP_CONTR) & AP_IDLE) == 0x0:\n",
    "        continue\n",
    "        \n",
    "    # timeKernelEnd = time()\n",
    "    # print(f\"Kernel execution time: {str(timeKernelEnd - timeKernelStart)} s\")"
   ]
  },
  {
   "cell_type": "code",
   "execution_count": 106,
   "metadata": {},
   "outputs": [],
   "source": [
    "rep_opt1 = timeit.repeat(lambda: main(cpuIP_opt1), repeat=1000, number=200)\n",
    "ave_opt1 = np.mean(rep_opt1)\n",
    "std_opt1 = np.std(rep_opt1)"
   ]
  },
  {
   "cell_type": "code",
   "execution_count": 107,
   "metadata": {},
   "outputs": [],
   "source": [
    "rep_opt2 = timeit.repeat(lambda: main(cpuIP_opt2), repeat=1000, number=200)\n",
    "ave_opt2 = np.mean(rep_opt2)\n",
    "std_opt2 = np.std(rep_opt2)"
   ]
  },
  {
   "cell_type": "code",
   "execution_count": 108,
   "metadata": {
    "scrolled": false
   },
   "outputs": [
    {
     "name": "stdout",
     "output_type": "stream",
     "text": [
      "with pipeline off\n",
      "ave: 0.1183\tstd: 0.0003\n",
      "without pipeline off\n",
      "ave: 0.1166\tstd: 0.0045\n"
     ]
    }
   ],
   "source": [
    "print(\"with pipeline off\")\n",
    "print(f\"ave: {ave_opt1:.4f}\\tstd: {std_opt1:.4f}\")\n",
    "\n",
    "print(\"without pipeline off\")\n",
    "print(f\"ave: {ave_opt2:.4f}\\tstd: {std_opt2:.4f}\")"
   ]
  },
  {
   "cell_type": "code",
   "execution_count": 142,
   "metadata": {},
   "outputs": [],
   "source": [
    "main(cpuIP_opt1)"
   ]
  },
  {
   "cell_type": "code",
   "execution_count": 143,
   "metadata": {},
   "outputs": [
    {
     "name": "stdout",
     "output_type": "stream",
     "text": [
      "x0  =     0\tx1  =   200\tx2  =   400\tx3  =   410\tx4  = 82000\t\n",
      "x5  = 164000\tx6  =     5\tx7  =     6\tx8  =     0\tx9  =     0\t\n",
      "x10 =     4\tx11 =     0\tx12 =     0\tx13 =     0\tx14 =     0\t\n",
      "x15 =     0\tx16 =     0\tx17 =     0\tx18 =     0\tx19 =     0\t\n",
      "x20 =     0\tx21 =     0\tx22 =     0\tx23 =     0\tx24 =     0\t\n",
      "x25 =     0\tx26 =     0\tx27 =     0\tx28 =     0\tx29 =     0\t\n",
      "x30 =     0\tx31 =     0\t"
     ]
    }
   ],
   "source": [
    "for i in range(len(regBuffer)) :\n",
    "    if (i%5 == 0 and i != 0) :\n",
    "        regBuffer[i] = cpuIP_opt1.read(REG_O + i * 4)\n",
    "        print(f\"\\nx{i:<2d} = {regBuffer[i]:5d}\", end='\\t')\n",
    "    else :\n",
    "        regBuffer[i] = cpuIP_opt1.read(REG_O + i * 4)\n",
    "        print(f\"x{i:<2d} = {regBuffer[i]:5d}\", end='\\t')\n"
   ]
  },
  {
   "cell_type": "code",
   "execution_count": null,
   "metadata": {},
   "outputs": [],
   "source": []
  }
 ],
 "metadata": {
  "kernelspec": {
   "display_name": "Python 3",
   "language": "python",
   "name": "python3"
  },
  "language_info": {
   "codemirror_mode": {
    "name": "ipython",
    "version": 3
   },
   "file_extension": ".py",
   "mimetype": "text/x-python",
   "name": "python",
   "nbconvert_exporter": "python",
   "pygments_lexer": "ipython3",
   "version": "3.6.5"
  }
 },
 "nbformat": 4,
 "nbformat_minor": 2
}
